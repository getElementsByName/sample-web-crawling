{
 "cells": [
  {
   "cell_type": "markdown",
   "id": "b5587249",
   "metadata": {},
   "source": [
    "!pip install pandas\n",
    "!pip install openpyxl"
   ]
  },
  {
   "cell_type": "code",
   "execution_count": 3,
   "id": "877d9c86",
   "metadata": {},
   "outputs": [],
   "source": [
    "import pandas as pd"
   ]
  },
  {
   "cell_type": "markdown",
   "id": "67571cba",
   "metadata": {},
   "source": [
    "## Load dataset 1 (review count)"
   ]
  },
  {
   "cell_type": "code",
   "execution_count": 10,
   "id": "c8c38453",
   "metadata": {},
   "outputs": [],
   "source": [
    "review_count_file_name = '../crawling/review_count.xlsx'\n",
    "review_count_df = pd.read_excel(review_count_file_name)"
   ]
  },
  {
   "cell_type": "code",
   "execution_count": 11,
   "id": "b0dfc644",
   "metadata": {},
   "outputs": [
    {
     "data": {
      "text/html": [
       "<div>\n",
       "<style scoped>\n",
       "    .dataframe tbody tr th:only-of-type {\n",
       "        vertical-align: middle;\n",
       "    }\n",
       "\n",
       "    .dataframe tbody tr th {\n",
       "        vertical-align: top;\n",
       "    }\n",
       "\n",
       "    .dataframe thead th {\n",
       "        text-align: right;\n",
       "    }\n",
       "</style>\n",
       "<table border=\"1\" class=\"dataframe\">\n",
       "  <thead>\n",
       "    <tr style=\"text-align: right;\">\n",
       "      <th></th>\n",
       "      <th>Unnamed: 0</th>\n",
       "      <th>가계명</th>\n",
       "      <th>placeid</th>\n",
       "      <th>review_count</th>\n",
       "    </tr>\n",
       "  </thead>\n",
       "  <tbody>\n",
       "    <tr>\n",
       "      <th>0</th>\n",
       "      <td>0</td>\n",
       "      <td>사위식당 정자본점</td>\n",
       "      <td>1017221386</td>\n",
       "      <td>769</td>\n",
       "    </tr>\n",
       "    <tr>\n",
       "      <th>1</th>\n",
       "      <td>1</td>\n",
       "      <td>진대감 분당점</td>\n",
       "      <td>1567653802</td>\n",
       "      <td>166</td>\n",
       "    </tr>\n",
       "  </tbody>\n",
       "</table>\n",
       "</div>"
      ],
      "text/plain": [
       "   Unnamed: 0        가계명     placeid  review_count\n",
       "0           0  사위식당 정자본점  1017221386           769\n",
       "1           1    진대감 분당점  1567653802           166"
      ]
     },
     "execution_count": 11,
     "metadata": {},
     "output_type": "execute_result"
    }
   ],
   "source": [
    "review_count_df"
   ]
  },
  {
   "cell_type": "markdown",
   "id": "2161c58b",
   "metadata": {},
   "source": [
    "## Load dataset 2 (place data)"
   ]
  },
  {
   "cell_type": "code",
   "execution_count": 13,
   "id": "8fb49262",
   "metadata": {},
   "outputs": [],
   "source": [
    "place_data_file_name = './place_data.xlsx'\n",
    "place_data_df = pd.read_excel(place_data_file_name)"
   ]
  },
  {
   "cell_type": "code",
   "execution_count": 14,
   "id": "37061c0e",
   "metadata": {},
   "outputs": [
    {
     "data": {
      "text/html": [
       "<div>\n",
       "<style scoped>\n",
       "    .dataframe tbody tr th:only-of-type {\n",
       "        vertical-align: middle;\n",
       "    }\n",
       "\n",
       "    .dataframe tbody tr th {\n",
       "        vertical-align: top;\n",
       "    }\n",
       "\n",
       "    .dataframe thead th {\n",
       "        text-align: right;\n",
       "    }\n",
       "</style>\n",
       "<table border=\"1\" class=\"dataframe\">\n",
       "  <thead>\n",
       "    <tr style=\"text-align: right;\">\n",
       "      <th></th>\n",
       "      <th>Unnamed: 0</th>\n",
       "      <th>가계명</th>\n",
       "      <th>placeid</th>\n",
       "      <th>운영여부</th>\n",
       "    </tr>\n",
       "  </thead>\n",
       "  <tbody>\n",
       "    <tr>\n",
       "      <th>0</th>\n",
       "      <td>0</td>\n",
       "      <td>사위식당 정자본점</td>\n",
       "      <td>1017221386</td>\n",
       "      <td>O</td>\n",
       "    </tr>\n",
       "    <tr>\n",
       "      <th>1</th>\n",
       "      <td>1</td>\n",
       "      <td>진대감 분당점</td>\n",
       "      <td>1567653802</td>\n",
       "      <td>X</td>\n",
       "    </tr>\n",
       "  </tbody>\n",
       "</table>\n",
       "</div>"
      ],
      "text/plain": [
       "   Unnamed: 0        가계명     placeid 운영여부\n",
       "0           0  사위식당 정자본점  1017221386    O\n",
       "1           1    진대감 분당점  1567653802    X"
      ]
     },
     "execution_count": 14,
     "metadata": {},
     "output_type": "execute_result"
    }
   ],
   "source": [
    "place_data_df"
   ]
  },
  {
   "cell_type": "markdown",
   "id": "12f58962",
   "metadata": {},
   "source": [
    "## join"
   ]
  },
  {
   "cell_type": "code",
   "execution_count": 79,
   "id": "56718ce9",
   "metadata": {},
   "outputs": [],
   "source": [
    "left_df = review_count_df[['placeid', 'review_count']]\n",
    "right_df = place_data_df[['placeid', '가계명', '운영여부']]\n",
    "\n",
    "merged_df = pd.merge(left_df, right_df, left_on='placeid', right_on='placeid', how='left', validate='one_to_one')"
   ]
  },
  {
   "cell_type": "code",
   "execution_count": 80,
   "id": "2c7f5d41",
   "metadata": {},
   "outputs": [
    {
     "data": {
      "text/html": [
       "<div>\n",
       "<style scoped>\n",
       "    .dataframe tbody tr th:only-of-type {\n",
       "        vertical-align: middle;\n",
       "    }\n",
       "\n",
       "    .dataframe tbody tr th {\n",
       "        vertical-align: top;\n",
       "    }\n",
       "\n",
       "    .dataframe thead th {\n",
       "        text-align: right;\n",
       "    }\n",
       "</style>\n",
       "<table border=\"1\" class=\"dataframe\">\n",
       "  <thead>\n",
       "    <tr style=\"text-align: right;\">\n",
       "      <th></th>\n",
       "      <th>placeid</th>\n",
       "      <th>review_count</th>\n",
       "      <th>가계명</th>\n",
       "      <th>운영여부</th>\n",
       "    </tr>\n",
       "  </thead>\n",
       "  <tbody>\n",
       "    <tr>\n",
       "      <th>0</th>\n",
       "      <td>1017221386</td>\n",
       "      <td>769</td>\n",
       "      <td>사위식당 정자본점</td>\n",
       "      <td>O</td>\n",
       "    </tr>\n",
       "    <tr>\n",
       "      <th>1</th>\n",
       "      <td>1567653802</td>\n",
       "      <td>166</td>\n",
       "      <td>진대감 분당점</td>\n",
       "      <td>X</td>\n",
       "    </tr>\n",
       "  </tbody>\n",
       "</table>\n",
       "</div>"
      ],
      "text/plain": [
       "      placeid  review_count        가계명 운영여부\n",
       "0  1017221386           769  사위식당 정자본점    O\n",
       "1  1567653802           166    진대감 분당점    X"
      ]
     },
     "execution_count": 80,
     "metadata": {},
     "output_type": "execute_result"
    }
   ],
   "source": [
    "merged_df"
   ]
  },
  {
   "cell_type": "code",
   "execution_count": 82,
   "id": "3ff46876",
   "metadata": {},
   "outputs": [],
   "source": [
    "result_df = merged_df.copy()\n",
    "\n",
    "result_df.insert(0, 'index', result_df.index)"
   ]
  },
  {
   "cell_type": "code",
   "execution_count": 83,
   "id": "9664e29f",
   "metadata": {},
   "outputs": [
    {
     "data": {
      "text/html": [
       "<div>\n",
       "<style scoped>\n",
       "    .dataframe tbody tr th:only-of-type {\n",
       "        vertical-align: middle;\n",
       "    }\n",
       "\n",
       "    .dataframe tbody tr th {\n",
       "        vertical-align: top;\n",
       "    }\n",
       "\n",
       "    .dataframe thead th {\n",
       "        text-align: right;\n",
       "    }\n",
       "</style>\n",
       "<table border=\"1\" class=\"dataframe\">\n",
       "  <thead>\n",
       "    <tr style=\"text-align: right;\">\n",
       "      <th></th>\n",
       "      <th>index</th>\n",
       "      <th>placeid</th>\n",
       "      <th>review_count</th>\n",
       "      <th>가계명</th>\n",
       "      <th>운영여부</th>\n",
       "    </tr>\n",
       "  </thead>\n",
       "  <tbody>\n",
       "    <tr>\n",
       "      <th>0</th>\n",
       "      <td>0</td>\n",
       "      <td>1017221386</td>\n",
       "      <td>769</td>\n",
       "      <td>사위식당 정자본점</td>\n",
       "      <td>O</td>\n",
       "    </tr>\n",
       "    <tr>\n",
       "      <th>1</th>\n",
       "      <td>1</td>\n",
       "      <td>1567653802</td>\n",
       "      <td>166</td>\n",
       "      <td>진대감 분당점</td>\n",
       "      <td>X</td>\n",
       "    </tr>\n",
       "  </tbody>\n",
       "</table>\n",
       "</div>"
      ],
      "text/plain": [
       "   index     placeid  review_count        가계명 운영여부\n",
       "0      0  1017221386           769  사위식당 정자본점    O\n",
       "1      1  1567653802           166    진대감 분당점    X"
      ]
     },
     "execution_count": 83,
     "metadata": {},
     "output_type": "execute_result"
    }
   ],
   "source": [
    "result_df"
   ]
  },
  {
   "cell_type": "markdown",
   "id": "eb1699e9",
   "metadata": {},
   "source": [
    "# result"
   ]
  },
  {
   "cell_type": "code",
   "execution_count": 84,
   "id": "e706ecb6",
   "metadata": {},
   "outputs": [],
   "source": [
    "import openpyxl\n",
    "\n",
    "template_file_path = './result_template.xlsx'\n",
    "wb = openpyxl.load_workbook(template_file_path)\n",
    "ws = wb.active"
   ]
  },
  {
   "cell_type": "code",
   "execution_count": 87,
   "id": "28371a40",
   "metadata": {},
   "outputs": [],
   "source": [
    "from openpyxl.utils.dataframe import dataframe_to_rows\n",
    "row_list = dataframe_to_rows(result_df, index=False, header=False)\n",
    "\n",
    "start_row = 2\n",
    "start_col = 1\n",
    "for r_idx, row in enumerate(row_list, start_row):\n",
    "    for c_idx, value in enumerate(row, start_col):\n",
    "        ws.cell(row=r_idx, column=c_idx, value=value)\n",
    "#         print(value)"
   ]
  },
  {
   "cell_type": "code",
   "execution_count": 91,
   "id": "c0e130ba",
   "metadata": {},
   "outputs": [
    {
     "data": {
      "text/html": [
       "<div>\n",
       "<style scoped>\n",
       "    .dataframe tbody tr th:only-of-type {\n",
       "        vertical-align: middle;\n",
       "    }\n",
       "\n",
       "    .dataframe tbody tr th {\n",
       "        vertical-align: top;\n",
       "    }\n",
       "\n",
       "    .dataframe thead th {\n",
       "        text-align: right;\n",
       "    }\n",
       "</style>\n",
       "<table border=\"1\" class=\"dataframe\">\n",
       "  <thead>\n",
       "    <tr style=\"text-align: right;\">\n",
       "      <th></th>\n",
       "      <th>0</th>\n",
       "      <th>1</th>\n",
       "      <th>2</th>\n",
       "      <th>3</th>\n",
       "      <th>4</th>\n",
       "      <th>5</th>\n",
       "      <th>6</th>\n",
       "    </tr>\n",
       "  </thead>\n",
       "  <tbody>\n",
       "    <tr>\n",
       "      <th>0</th>\n",
       "      <td>NaN</td>\n",
       "      <td>가계명</td>\n",
       "      <td>placeid</td>\n",
       "      <td>운영여부</td>\n",
       "      <td>리뷰숫자</td>\n",
       "      <td>None</td>\n",
       "      <td>None</td>\n",
       "    </tr>\n",
       "    <tr>\n",
       "      <th>1</th>\n",
       "      <td>0.0</td>\n",
       "      <td>1017221386</td>\n",
       "      <td>769</td>\n",
       "      <td>사위식당 정자본점</td>\n",
       "      <td>O</td>\n",
       "      <td>O</td>\n",
       "      <td>None</td>\n",
       "    </tr>\n",
       "    <tr>\n",
       "      <th>2</th>\n",
       "      <td>1.0</td>\n",
       "      <td>1567653802</td>\n",
       "      <td>166</td>\n",
       "      <td>진대감 분당점</td>\n",
       "      <td>X</td>\n",
       "      <td>X</td>\n",
       "      <td>이건 템플릿 입니다.</td>\n",
       "    </tr>\n",
       "  </tbody>\n",
       "</table>\n",
       "</div>"
      ],
      "text/plain": [
       "     0           1        2          3     4     5            6\n",
       "0  NaN         가계명  placeid       운영여부  리뷰숫자  None         None\n",
       "1  0.0  1017221386      769  사위식당 정자본점     O     O         None\n",
       "2  1.0  1567653802      166    진대감 분당점     X     X  이건 템플릿 입니다."
      ]
     },
     "execution_count": 91,
     "metadata": {},
     "output_type": "execute_result"
    }
   ],
   "source": [
    "df = pd.DataFrame(ws.values)\n",
    "df"
   ]
  },
  {
   "cell_type": "code",
   "execution_count": 92,
   "id": "eb924e54",
   "metadata": {},
   "outputs": [],
   "source": [
    "result_file_path = './result.xlsx'\n",
    "wb.save(result_file_path)"
   ]
  }
 ],
 "metadata": {
  "kernelspec": {
   "display_name": "Python 3 (ipykernel)",
   "language": "python",
   "name": "python3"
  },
  "language_info": {
   "codemirror_mode": {
    "name": "ipython",
    "version": 3
   },
   "file_extension": ".py",
   "mimetype": "text/x-python",
   "name": "python",
   "nbconvert_exporter": "python",
   "pygments_lexer": "ipython3",
   "version": "3.8.8"
  }
 },
 "nbformat": 4,
 "nbformat_minor": 5
}
