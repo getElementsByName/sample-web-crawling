{
 "cells": [
  {
   "cell_type": "markdown",
   "id": "8db1e548",
   "metadata": {},
   "source": [
    "# 크롤러 종류\n",
    "### beautifulsoup4\n",
    "- 서버 응답으로 정보를 추출할 수 있을 때\n",
    "\n",
    "### selenium\n",
    "- 클라이언트에서 추가 작업이 필요할 경우"
   ]
  },
  {
   "cell_type": "markdown",
   "id": "f2135290",
   "metadata": {},
   "source": [
    "# 패키지 설치"
   ]
  },
  {
   "cell_type": "code",
   "execution_count": 1,
   "id": "662b4708",
   "metadata": {},
   "outputs": [
    {
     "name": "stdout",
     "output_type": "stream",
     "text": [
      "Requirement already satisfied: pandas in /Users/user/opt/anaconda3/envs/py38/lib/python3.8/site-packages (1.3.0)\n",
      "Requirement already satisfied: python-dateutil>=2.7.3 in /Users/user/opt/anaconda3/envs/py38/lib/python3.8/site-packages (from pandas) (2.8.1)\n",
      "Requirement already satisfied: pytz>=2017.3 in /Users/user/opt/anaconda3/envs/py38/lib/python3.8/site-packages (from pandas) (2021.1)\n",
      "Requirement already satisfied: numpy>=1.17.3 in /Users/user/opt/anaconda3/envs/py38/lib/python3.8/site-packages (from pandas) (1.20.3)\n",
      "Requirement already satisfied: six>=1.5 in /Users/user/opt/anaconda3/envs/py38/lib/python3.8/site-packages (from python-dateutil>=2.7.3->pandas) (1.16.0)\n",
      "Requirement already satisfied: openpyxl in /Users/user/opt/anaconda3/envs/py38/lib/python3.8/site-packages (3.0.7)\n",
      "Requirement already satisfied: et-xmlfile in /Users/user/opt/anaconda3/envs/py38/lib/python3.8/site-packages (from openpyxl) (1.1.0)\n"
     ]
    }
   ],
   "source": [
    "!pip install pandas\n",
    "!pip install openpyxl"
   ]
  },
  {
   "cell_type": "code",
   "execution_count": 2,
   "id": "a442a0ef",
   "metadata": {},
   "outputs": [
    {
     "name": "stdout",
     "output_type": "stream",
     "text": [
      "Requirement already satisfied: selenium in /Users/user/opt/anaconda3/envs/py38/lib/python3.8/site-packages (3.141.0)\r\n",
      "Requirement already satisfied: urllib3 in /Users/user/opt/anaconda3/envs/py38/lib/python3.8/site-packages (from selenium) (1.26.4)\r\n"
     ]
    }
   ],
   "source": [
    "!pip install selenium"
   ]
  },
  {
   "cell_type": "markdown",
   "id": "da47b008",
   "metadata": {},
   "source": [
    "# 크롤링 URL 목록 생성"
   ]
  },
  {
   "cell_type": "markdown",
   "id": "0c1aa2c6",
   "metadata": {},
   "source": [
    "- https://pandas.pydata.org/pandas-docs/stable/reference/api/pandas.read_csv.html"
   ]
  },
  {
   "cell_type": "code",
   "execution_count": 3,
   "id": "77d4c5db",
   "metadata": {},
   "outputs": [],
   "source": [
    "import pandas as pd"
   ]
  },
  {
   "cell_type": "code",
   "execution_count": 4,
   "id": "66c56260",
   "metadata": {},
   "outputs": [],
   "source": [
    "# 데이터 ... 으로 자르지 않고 다 보기\n",
    "pd.set_option('display.max_colwidth', None)"
   ]
  },
  {
   "cell_type": "code",
   "execution_count": 5,
   "id": "f36b70c4",
   "metadata": {},
   "outputs": [],
   "source": [
    "url_list_file = './weburl_list.csv'\n",
    "\n",
    "url_list_df = pd.read_csv(url_list_file)"
   ]
  },
  {
   "cell_type": "code",
   "execution_count": 6,
   "id": "ff3a3e61",
   "metadata": {},
   "outputs": [
    {
     "data": {
      "text/html": [
       "<div>\n",
       "<style scoped>\n",
       "    .dataframe tbody tr th:only-of-type {\n",
       "        vertical-align: middle;\n",
       "    }\n",
       "\n",
       "    .dataframe tbody tr th {\n",
       "        vertical-align: top;\n",
       "    }\n",
       "\n",
       "    .dataframe thead th {\n",
       "        text-align: right;\n",
       "    }\n",
       "</style>\n",
       "<table border=\"1\" class=\"dataframe\">\n",
       "  <thead>\n",
       "    <tr style=\"text-align: right;\">\n",
       "      <th></th>\n",
       "      <th>가계명</th>\n",
       "      <th>placeid</th>\n",
       "    </tr>\n",
       "  </thead>\n",
       "  <tbody>\n",
       "    <tr>\n",
       "      <th>0</th>\n",
       "      <td>사위식당 정자본점</td>\n",
       "      <td>1017221386</td>\n",
       "    </tr>\n",
       "    <tr>\n",
       "      <th>1</th>\n",
       "      <td>진대감 분당점</td>\n",
       "      <td>1567653802</td>\n",
       "    </tr>\n",
       "  </tbody>\n",
       "</table>\n",
       "</div>"
      ],
      "text/plain": [
       "         가계명     placeid\n",
       "0  사위식당 정자본점  1017221386\n",
       "1    진대감 분당점  1567653802"
      ]
     },
     "execution_count": 6,
     "metadata": {},
     "output_type": "execute_result"
    }
   ],
   "source": [
    "url_list_df"
   ]
  },
  {
   "cell_type": "code",
   "execution_count": 7,
   "id": "2b9205c1",
   "metadata": {},
   "outputs": [
    {
     "name": "stdout",
     "output_type": "stream",
     "text": [
      "0    1017221386\n",
      "1    1567653802\n",
      "Name: placeid, dtype: int64\n"
     ]
    }
   ],
   "source": [
    "placeid_list = url_list_df['placeid']\n",
    "print(placeid_list)"
   ]
  },
  {
   "cell_type": "code",
   "execution_count": 8,
   "id": "d7bd09c3",
   "metadata": {},
   "outputs": [
    {
     "data": {
      "text/plain": [
       "0    https://m.place.naver.com/restaurant/1017221386/review/visitor\n",
       "1    https://m.place.naver.com/restaurant/1567653802/review/visitor\n",
       "Name: placeid, dtype: object"
      ]
     },
     "execution_count": 8,
     "metadata": {},
     "output_type": "execute_result"
    }
   ],
   "source": [
    "url_list = placeid_list.map('https://m.place.naver.com/restaurant/{}/review/visitor'.format)\n",
    "url_list.head()"
   ]
  },
  {
   "cell_type": "markdown",
   "id": "c65db25c",
   "metadata": {},
   "source": [
    "#  웹사이트 데이터 가지고 오기"
   ]
  },
  {
   "cell_type": "code",
   "execution_count": 9,
   "id": "8df81caa",
   "metadata": {},
   "outputs": [],
   "source": [
    "from selenium import webdriver\n",
    "from selenium.webdriver.support.ui import WebDriverWait\n",
    "from selenium.webdriver.support import expected_conditions\n",
    "from selenium.webdriver.common.by import By"
   ]
  },
  {
   "cell_type": "markdown",
   "id": "a0fc92db",
   "metadata": {},
   "source": [
    "- https://sites.google.com/a/chromium.org/chromedriver/home"
   ]
  },
  {
   "cell_type": "code",
   "execution_count": 10,
   "id": "66d90d6b",
   "metadata": {},
   "outputs": [],
   "source": [
    "webdriver_options = webdriver.ChromeOptions()\n",
    "\n",
    "# headless 모드의 경우 브라우저가 열리지 않고, 내부적으로 작동\n",
    "# webdriver_options.add_argument('headless')\n",
    "\n",
    "chromedriver = './chromedriver'\n",
    "driver = webdriver.Chrome(chromedriver, options=webdriver_options)"
   ]
  },
  {
   "cell_type": "markdown",
   "id": "2b15f726",
   "metadata": {},
   "source": [
    "### selector 추출법\n",
    "- chrome\n",
    "- 추출할 요소에 마우스 올리고 (우클릭 > 검사)\n",
    "- 우클릭 메뉴 > copy > copy selector "
   ]
  },
  {
   "cell_type": "code",
   "execution_count": 11,
   "id": "ec711b57",
   "metadata": {},
   "outputs": [],
   "source": [
    "review_count_selector = '#app-root > div > div > div.place_detail_wrapper > div:nth-child(5) > div:nth-child(4) > div:nth-child(5) > h2 > span'"
   ]
  },
  {
   "cell_type": "code",
   "execution_count": 15,
   "id": "53835ac1",
   "metadata": {},
   "outputs": [],
   "source": [
    "page_open_max_delay_wait_sec = 10\n",
    "\n",
    "# 그냥 임의로 대기하는 방법\n",
    "# driver.implicitly_wait(10)\n",
    "\n",
    "def get_review_count(url):\n",
    "    driver.get(url)\n",
    "\n",
    "    # 페이지 랜더링이 끝나고 특정 element를 접근 할 수 있을 떄까지 기다림\n",
    "    until_condition = expected_conditions.presence_of_element_located(\n",
    "        (By.CSS_SELECTOR, review_count_selector)\n",
    "    )\n",
    "    elements = WebDriverWait(driver, page_open_max_delay_wait_sec).until(until_condition)\n",
    "    return elements.get_attribute('innerHTML')\n",
    "    \n",
    "result_list = url_list.map(get_review_count)"
   ]
  },
  {
   "cell_type": "code",
   "execution_count": 16,
   "id": "19eee325",
   "metadata": {},
   "outputs": [
    {
     "data": {
      "text/plain": [
       "0    769\n",
       "1    166\n",
       "Name: placeid, dtype: object"
      ]
     },
     "execution_count": 16,
     "metadata": {},
     "output_type": "execute_result"
    }
   ],
   "source": [
    "result_list"
   ]
  },
  {
   "cell_type": "code",
   "execution_count": 17,
   "id": "1201ce0e",
   "metadata": {},
   "outputs": [],
   "source": [
    "result_df = url_list_df.copy()\n",
    "result_df['review_count'] = result_list"
   ]
  },
  {
   "cell_type": "code",
   "execution_count": 18,
   "id": "7de855dd",
   "metadata": {},
   "outputs": [
    {
     "data": {
      "text/html": [
       "<div>\n",
       "<style scoped>\n",
       "    .dataframe tbody tr th:only-of-type {\n",
       "        vertical-align: middle;\n",
       "    }\n",
       "\n",
       "    .dataframe tbody tr th {\n",
       "        vertical-align: top;\n",
       "    }\n",
       "\n",
       "    .dataframe thead th {\n",
       "        text-align: right;\n",
       "    }\n",
       "</style>\n",
       "<table border=\"1\" class=\"dataframe\">\n",
       "  <thead>\n",
       "    <tr style=\"text-align: right;\">\n",
       "      <th></th>\n",
       "      <th>가계명</th>\n",
       "      <th>placeid</th>\n",
       "      <th>review_count</th>\n",
       "    </tr>\n",
       "  </thead>\n",
       "  <tbody>\n",
       "    <tr>\n",
       "      <th>0</th>\n",
       "      <td>사위식당 정자본점</td>\n",
       "      <td>1017221386</td>\n",
       "      <td>769</td>\n",
       "    </tr>\n",
       "    <tr>\n",
       "      <th>1</th>\n",
       "      <td>진대감 분당점</td>\n",
       "      <td>1567653802</td>\n",
       "      <td>166</td>\n",
       "    </tr>\n",
       "  </tbody>\n",
       "</table>\n",
       "</div>"
      ],
      "text/plain": [
       "         가계명     placeid review_count\n",
       "0  사위식당 정자본점  1017221386          769\n",
       "1    진대감 분당점  1567653802          166"
      ]
     },
     "execution_count": 18,
     "metadata": {},
     "output_type": "execute_result"
    }
   ],
   "source": [
    "result_df"
   ]
  },
  {
   "cell_type": "code",
   "execution_count": 19,
   "id": "bf8de905",
   "metadata": {},
   "outputs": [],
   "source": [
    "result_file_name = 'review_count.xlsx'"
   ]
  },
  {
   "cell_type": "code",
   "execution_count": 20,
   "id": "0434824f",
   "metadata": {},
   "outputs": [],
   "source": [
    "result_df.to_excel(result_file_name)"
   ]
  },
  {
   "cell_type": "markdown",
   "id": "39c58206",
   "metadata": {},
   "source": [
    "# close browser"
   ]
  },
  {
   "cell_type": "code",
   "execution_count": 21,
   "id": "19e482e3",
   "metadata": {},
   "outputs": [],
   "source": [
    "driver.quit()"
   ]
  }
 ],
 "metadata": {
  "kernelspec": {
   "display_name": "Python 3 (ipykernel)",
   "language": "python",
   "name": "python3"
  },
  "language_info": {
   "codemirror_mode": {
    "name": "ipython",
    "version": 3
   },
   "file_extension": ".py",
   "mimetype": "text/x-python",
   "name": "python",
   "nbconvert_exporter": "python",
   "pygments_lexer": "ipython3",
   "version": "3.8.8"
  }
 },
 "nbformat": 4,
 "nbformat_minor": 5
}
